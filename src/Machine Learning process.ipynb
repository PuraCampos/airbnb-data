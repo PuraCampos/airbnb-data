{
 "cells": [
  {
   "cell_type": "markdown",
   "metadata": {},
   "source": [
    "# Machine Learning"
   ]
  },
  {
   "cell_type": "code",
   "execution_count": 1,
   "metadata": {},
   "outputs": [],
   "source": [
    "import pandas as pd"
   ]
  },
  {
   "cell_type": "markdown",
   "metadata": {},
   "source": [
    "### 1. Decision making: Which is the best dataset?"
   ]
  },
  {
   "cell_type": "code",
   "execution_count": 2,
   "metadata": {},
   "outputs": [],
   "source": [
    "# Train data frames\n",
    "X_train_with_outliers_sel = pd.read_csv('../data/processed/X_train_with_outliers_sel.csv')\n",
    "X_train_without_outliers_sel = pd.read_csv('../data/processed/X_train_without_outliers_sel.csv')\n",
    "X_train_with_outliers_norm_sel = pd.read_csv('../data/processed/X_train_with_outliers_norm_sel.csv')\n",
    "X_train_without_outliers_norm_sel = pd.read_csv('../data/processed/X_train_without_outliers_norm_sel.csv')\n",
    "X_train_with_outliers_minmax_sel = pd.read_csv('../data/processed/X_train_with_outliers_minmax_sel.csv')\n",
    "X_train_without_outliers_minmax_sel = pd.read_csv('../data/processed/X_train_without_outliers_minmax_sel.csv')\n",
    "y_train = pd.read_csv('../data/processed/y_train.csv')\n",
    "\n",
    "# Test data frames\n",
    "X_test_with_outliers_sel = pd.read_csv('../data/processed/X_test_with_outliers_sel.csv')\n",
    "X_test_without_outliers_sel = pd.read_csv('../data/processed/X_test_without_outliers_sel.csv')\n",
    "X_test_with_outliers_norm_sel = pd.read_csv('../data/processed/X_test_with_outliers_norm_sel.csv')\n",
    "X_test_without_outliers_norm_sel = pd.read_csv('../data/processed/X_test_without_outliers_norm_sel.csv')\n",
    "X_test_with_outliers_minmax_sel = pd.read_csv('../data/processed/X_test_with_outliers_minmax_sel.csv')\n",
    "X_test_without_outliers_minmax_sel = pd.read_csv('../data/processed/X_test_without_outliers_minmax_sel.csv')\n",
    "y_test = pd.read_csv('../data/processed/y_test.csv')"
   ]
  },
  {
   "cell_type": "code",
   "execution_count": 3,
   "metadata": {},
   "outputs": [
    {
     "name": "stderr",
     "output_type": "stream",
     "text": [
      "/home/vscode/.local/lib/python3.10/site-packages/sklearn/utils/validation.py:1339: DataConversionWarning: A column-vector y was passed when a 1d array was expected. Please change the shape of y to (n_samples, ), for example using ravel().\n",
      "  y = column_or_1d(y, warn=True)\n",
      "/home/vscode/.local/lib/python3.10/site-packages/sklearn/linear_model/_logistic.py:469: ConvergenceWarning: lbfgs failed to converge (status=1):\n",
      "STOP: TOTAL NO. of ITERATIONS REACHED LIMIT.\n",
      "\n",
      "Increase the number of iterations (max_iter) or scale the data as shown in:\n",
      "    https://scikit-learn.org/stable/modules/preprocessing.html\n",
      "Please also refer to the documentation for alternative solver options:\n",
      "    https://scikit-learn.org/stable/modules/linear_model.html#logistic-regression\n",
      "  n_iter_i = _check_optimize_result(\n",
      "/home/vscode/.local/lib/python3.10/site-packages/sklearn/utils/validation.py:1339: DataConversionWarning: A column-vector y was passed when a 1d array was expected. Please change the shape of y to (n_samples, ), for example using ravel().\n",
      "  y = column_or_1d(y, warn=True)\n",
      "/home/vscode/.local/lib/python3.10/site-packages/sklearn/linear_model/_logistic.py:469: ConvergenceWarning: lbfgs failed to converge (status=1):\n",
      "STOP: TOTAL NO. of ITERATIONS REACHED LIMIT.\n",
      "\n",
      "Increase the number of iterations (max_iter) or scale the data as shown in:\n",
      "    https://scikit-learn.org/stable/modules/preprocessing.html\n",
      "Please also refer to the documentation for alternative solver options:\n",
      "    https://scikit-learn.org/stable/modules/linear_model.html#logistic-regression\n",
      "  n_iter_i = _check_optimize_result(\n",
      "/home/vscode/.local/lib/python3.10/site-packages/sklearn/utils/validation.py:1339: DataConversionWarning: A column-vector y was passed when a 1d array was expected. Please change the shape of y to (n_samples, ), for example using ravel().\n",
      "  y = column_or_1d(y, warn=True)\n",
      "/home/vscode/.local/lib/python3.10/site-packages/sklearn/linear_model/_logistic.py:469: ConvergenceWarning: lbfgs failed to converge (status=1):\n",
      "STOP: TOTAL NO. of ITERATIONS REACHED LIMIT.\n",
      "\n",
      "Increase the number of iterations (max_iter) or scale the data as shown in:\n",
      "    https://scikit-learn.org/stable/modules/preprocessing.html\n",
      "Please also refer to the documentation for alternative solver options:\n",
      "    https://scikit-learn.org/stable/modules/linear_model.html#logistic-regression\n",
      "  n_iter_i = _check_optimize_result(\n",
      "/home/vscode/.local/lib/python3.10/site-packages/sklearn/utils/validation.py:1339: DataConversionWarning: A column-vector y was passed when a 1d array was expected. Please change the shape of y to (n_samples, ), for example using ravel().\n",
      "  y = column_or_1d(y, warn=True)\n",
      "/home/vscode/.local/lib/python3.10/site-packages/sklearn/utils/validation.py:1339: DataConversionWarning: A column-vector y was passed when a 1d array was expected. Please change the shape of y to (n_samples, ), for example using ravel().\n",
      "  y = column_or_1d(y, warn=True)\n",
      "/home/vscode/.local/lib/python3.10/site-packages/sklearn/linear_model/_logistic.py:469: ConvergenceWarning: lbfgs failed to converge (status=1):\n",
      "STOP: TOTAL NO. of ITERATIONS REACHED LIMIT.\n",
      "\n",
      "Increase the number of iterations (max_iter) or scale the data as shown in:\n",
      "    https://scikit-learn.org/stable/modules/preprocessing.html\n",
      "Please also refer to the documentation for alternative solver options:\n",
      "    https://scikit-learn.org/stable/modules/linear_model.html#logistic-regression\n",
      "  n_iter_i = _check_optimize_result(\n",
      "/home/vscode/.local/lib/python3.10/site-packages/sklearn/utils/validation.py:1339: DataConversionWarning: A column-vector y was passed when a 1d array was expected. Please change the shape of y to (n_samples, ), for example using ravel().\n",
      "  y = column_or_1d(y, warn=True)\n"
     ]
    },
    {
     "data": {
      "text/plain": [
       "[{'index': 3,\n",
       "  'train_score': 0.07222108600061355,\n",
       "  'test_score': 0.07117292156662236},\n",
       " {'index': 2,\n",
       "  'train_score': 0.07127518151140198,\n",
       "  'test_score': 0.07147970140096124},\n",
       " {'index': 5,\n",
       "  'train_score': 0.07035484200838532,\n",
       "  'test_score': 0.07004806217404642},\n",
       " {'index': 4,\n",
       "  'train_score': 0.06956232743634319,\n",
       "  'test_score': 0.06902546272625013},\n",
       " {'index': 1,\n",
       "  'train_score': 0.04900807853563759,\n",
       "  'test_score': 0.046426014929951936},\n",
       " {'index': 0,\n",
       "  'train_score': 0.048982513549442684,\n",
       "  'test_score': 0.047141834543409346}]"
      ]
     },
     "execution_count": 3,
     "metadata": {},
     "output_type": "execute_result"
    }
   ],
   "source": [
    "from sklearn.linear_model import LogisticRegression\n",
    "from sklearn.metrics import accuracy_score\n",
    "\n",
    "train_dfs = [\n",
    "  X_train_with_outliers_sel,\n",
    "  X_train_without_outliers_sel,\n",
    "  X_train_with_outliers_norm_sel,\n",
    "  X_train_without_outliers_norm_sel,\n",
    "  X_train_with_outliers_minmax_sel,\n",
    "  X_train_without_outliers_minmax_sel\n",
    "]\n",
    "test_dfs = [\n",
    "  X_test_with_outliers_sel,\n",
    "  X_test_without_outliers_sel,\n",
    "  X_test_with_outliers_norm_sel,\n",
    "  X_test_without_outliers_norm_sel,\n",
    "  X_test_with_outliers_minmax_sel,\n",
    "  X_test_without_outliers_minmax_sel\n",
    "]\n",
    "\n",
    "results = []\n",
    "\n",
    "for df_index in range(len(train_dfs)):\n",
    "  model = LogisticRegression()\n",
    "  train_df = train_dfs[df_index]\n",
    "  model.fit(train_df, y_train)\n",
    "  y_train_pred = model.predict(train_df)\n",
    "  y_test_pred = model.predict(test_dfs[df_index])\n",
    "\n",
    "  results.append(\n",
    "    {\n",
    "        \"index\": df_index,\n",
    "        \"train_score\": accuracy_score(y_train, y_train_pred),\n",
    "        \"test_score\": accuracy_score(y_test, y_test_pred)\n",
    "    }\n",
    "  )\n",
    "\n",
    "sorted(results, key = lambda x: x[\"train_score\"], reverse = True)\n",
    "\n",
    "# Optimización????????????????? -> Si el modelo no es perfecto (100% de accuracy)"
   ]
  },
  {
   "cell_type": "markdown",
   "metadata": {},
   "source": [
    "### Conclusion: The best dataset is **WITHOUT OUTLIERS AND NORMALIZED**"
   ]
  },
  {
   "cell_type": "code",
   "execution_count": null,
   "metadata": {},
   "outputs": [],
   "source": []
  }
 ],
 "metadata": {
  "kernelspec": {
   "display_name": "Python 3",
   "language": "python",
   "name": "python3"
  },
  "language_info": {
   "codemirror_mode": {
    "name": "ipython",
    "version": 3
   },
   "file_extension": ".py",
   "mimetype": "text/x-python",
   "name": "python",
   "nbconvert_exporter": "python",
   "pygments_lexer": "ipython3",
   "version": "3.10.12"
  }
 },
 "nbformat": 4,
 "nbformat_minor": 4
}
